{
 "cells": [
  {
   "cell_type": "markdown",
   "metadata": {},
   "source": [
    "Once I had to analyse a weird set of data: I was collecting data while pumping my vacuum chamber down, from an atmosphere of pressure to almost none. The pump down was extremely slow so I could collect GB of information, but the pumping down is also a very inhomogeneous process. \n",
    "This means that I had a very different amount of data for different pressure ranges: for example, I had over a thousand data points between 0 and 100atm and just 30 between 600 and 700atm. \n",
    "This makes the analysis quite tricky, so how would you handle this?\n",
    "My supervisor suggested I bin the data according to different pressure ranges, then choose for every bin a number of data points, N, that to be statistically consistent has to be the number of data points of the smallest bin. This means that in the example above, every pressure bin should have 30 data points (min_bin), being 30 the least number of data points I obtained in the bins 0-100atm, 100-200atm, 200-300atm and so on.\n",
    "But now another problem arises. Which 30 data points of the bin do I choose? The first 30, the last 30, the middle 30...?\n",
    "There is really no consistent way to choose, so the only option is to randomize the choice. \n",
    "Pandas allows to bin the data points and randomize them very easily and I will expose the program step by step.\n",
    "The data file is organized in a table with several columns. The first column contains the pressure values, the other columns contain other information like for example how long the laser light takes to decay in the chamber. \n",
    "I would like to obtain a table with binned pressures and averaged values of min_bin elements for the remaining columns."
   ]
  },
  {
   "cell_type": "code",
   "execution_count": null,
   "metadata": {},
   "outputs": [],
   "source": [
    "import pandas as pd\n",
    "import numpy as np\n",
    "\n",
    "#I import the file to be analyzed, file.txt, with pandas and read it as a table. \n",
    "#The data file columns are tab separated\n",
    "merged_values=pd.read_table(\"file.txt\",header=None)\n",
    "\n",
    "#I rename the column I am interested in (the column of pressure data) as \"P\"   \n",
    "merged_values.rename(index=str, columns={0: \"P\"},inplace=True)\n",
    "\n",
    "#I sort the values of the table according to pressure\n",
    "merged_values=merged_values.sort_values(by=['P'])\n",
    "\n",
    "#I bin the values in the table with the Pandas function \"cut\", then I group the binned results by pressure. \n",
    "#Finally, I convert the result in a Pandas dataframe, to be able to use it later.\n",
    "n_bins=90\n",
    "merged_values_grouped=merged_values.groupby(pd.cut(merged_values['P'],n_bins)).apply(lambda x: x) \n",
    "\n",
    "#I count the number of elements in each bin, convert this into an array \n",
    "#and find the minimum number of elements at all in the array\n",
    "bin_count=merged_values.groupby(pd.cut(merged_values['P'],n_bins)).count()\n",
    "bin_count_elements=np.array(bin_count['P'])\n",
    "min_bin=min(bin_count['P'])\n",
    "\n",
    "merged_values_random=[]\n",
    "merged_values_random_std=[]\n",
    "merged_values_randomised=[]\n",
    "\n",
    "\n",
    "for i in range (0,len(bin_count_elements)):\n",
    "    count=0\n",
    "    count=sum(bin_count_elements[0:i])\n",
    "    \n",
    "    #I select each element in the binned data frame thanks to the variable \"count\", which is reset at every cycle.\n",
    "    #The variable count provides the row of the first element of every bin, \"count+bin_count_elements[i]\" the last:\n",
    "    \n",
    "    bin_elements=merged_values_grouped[count:count+bin_count_elements[i]] #Here I have all the elements of a single bin in\n",
    "                                                                          #a variable, which I can use to randomize them\n",
    "    \n",
    "    #Thanks to the function sample() I can choose how many elements of the bin I want, I chose min_bin of them\n",
    "    bin_elements=bin_elements.sample(min_bin)\n",
    "    \n",
    "    #I create an array in which to append the mean and standard deviation of the elements of the remaining columns of the table\n",
    "    merged_values_random.append(bin_elements.mean())\n",
    "    merged_values_random_std.append(bin_elements.std())\n",
    "    \n",
    "    #These arrays can be used further or just dumped in a file"
   ]
  }
 ],
 "metadata": {
  "kernelspec": {
   "display_name": "Python 3",
   "language": "python",
   "name": "python3"
  },
  "language_info": {
   "codemirror_mode": {
    "name": "ipython",
    "version": 3
   },
   "file_extension": ".py",
   "mimetype": "text/x-python",
   "name": "python",
   "nbconvert_exporter": "python",
   "pygments_lexer": "ipython3",
   "version": "3.6.5"
  }
 },
 "nbformat": 4,
 "nbformat_minor": 2
}
